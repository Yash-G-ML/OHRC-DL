{
 "cells": [
  {
   "cell_type": "code",
   "execution_count": 1,
   "id": "0e034ccf",
   "metadata": {},
   "outputs": [],
   "source": [
    "import imgread\n",
    "import numpy as np\n",
    "import matplotlib.pyplot as plt\n",
    "import os\n",
    "from patchify import patchify,unpatchify"
   ]
  },
  {
   "cell_type": "code",
   "execution_count": 2,
   "id": "bb7d5e45",
   "metadata": {},
   "outputs": [],
   "source": [
    "pl = []\n",
    "\n",
    "source_folder = 'E:\\Yash\\OHRC Data'\n",
    "for folder in os.listdir(source_folder):\n",
    "    og = source_folder+ '/' + folder\n",
    "    #print('og',og)\n",
    "    path = source_folder+ '/' + folder + '/' + 'data/calibrated'\n",
    "    for content in os.listdir(path):\n",
    "        path = path+'/'+content\n",
    "        for file in os.listdir(path):\n",
    "            if '.xml' in file:\n",
    "                x = path+'/'+file\n",
    "                pl.append(x)"
   ]
  },
  {
   "cell_type": "code",
   "execution_count": 3,
   "id": "763b0594",
   "metadata": {},
   "outputs": [],
   "source": [
    "#name = path[18:59]\n",
    "def create_patches(path,patch_row,patch_col,step):\n",
    "    \n",
    "    img = imgread.xmlread(path)\n",
    "    patches = patchify(img, (patch_row, patch_col), step=step)\n",
    "    r,c,m,n = patches.shape\n",
    "    print(f'{r*c} patches of ({m},{n}) are made')\n",
    "    sample = patches.reshape(r*c,m,n)\n",
    "    return sample"
   ]
  },
  {
   "cell_type": "code",
   "execution_count": 4,
   "id": "4d6182a7",
   "metadata": {},
   "outputs": [
    {
     "name": "stdout",
     "output_type": "stream",
     "text": [
      "shape of image :  [63230, 12000]\n",
      "11316 patches of (256,256) are made\n",
      "shape of image :  [90148, 12000]\n",
      "16192 patches of (256,256) are made\n",
      "shape of image :  [93692, 12000]\n",
      "16790 patches of (256,256) are made\n",
      "shape of image :  [90148, 12000]\n",
      "16192 patches of (256,256) are made\n",
      "shape of image :  [93693, 12000]\n",
      "16790 patches of (256,256) are made\n",
      "shape of image :  [93693, 12000]\n",
      "16790 patches of (256,256) are made\n",
      "shape of image :  [91971, 12000]\n",
      "16514 patches of (256,256) are made\n",
      "shape of image :  [90148, 12000]\n",
      "16192 patches of (256,256) are made\n",
      "shape of image :  [76619, 12000]\n",
      "13754 patches of (256,256) are made\n",
      "shape of image :  [90148, 12000]\n",
      "16192 patches of (256,256) are made\n",
      "shape of image :  [90148, 12000]\n",
      "16192 patches of (256,256) are made\n",
      "shape of image :  [90148, 12000]\n",
      "16192 patches of (256,256) are made\n",
      "shape of image :  [78175, 12000]\n",
      "14030 patches of (256,256) are made\n",
      "shape of image :  [93693, 12000]\n",
      "16790 patches of (256,256) are made\n",
      "shape of image :  [93692, 12000]\n",
      "16790 patches of (256,256) are made\n",
      "shape of image :  [101074, 12000]\n",
      "18124 patches of (256,256) are made\n",
      "shape of image :  [101075, 12000]\n",
      "18124 patches of (256,256) are made\n",
      "shape of image :  [101075, 12000]\n",
      "18124 patches of (256,256) are made\n",
      "shape of image :  [101075, 12000]\n",
      "18124 patches of (256,256) are made\n",
      "shape of image :  [101074, 12000]\n",
      "18124 patches of (256,256) are made\n",
      "shape of image :  [101074, 12000]\n",
      "18124 patches of (256,256) are made\n",
      "shape of image :  [101073, 12000]\n",
      "18124 patches of (256,256) are made\n",
      "shape of image :  [101073, 12000]\n",
      "18124 patches of (256,256) are made\n",
      "shape of image :  [7868, 12000]\n",
      "1380 patches of (256,256) are made\n",
      "shape of image :  [4706, 12000]\n",
      "828 patches of (256,256) are made\n"
     ]
    }
   ],
   "source": [
    "for i in range(len(pl)):\n",
    "    name = pl[i][18:59]\n",
    "    s = create_patches(pl[i],patch_row=256,patch_col=256,step=256)\n",
    "    np.save(name+'.npy',s)"
   ]
  },
  {
   "cell_type": "markdown",
   "id": "cbb33ff5",
   "metadata": {},
   "source": [
    "### total 383916 patches of 256x256 are made from equitorial region"
   ]
  },
  {
   "cell_type": "code",
   "execution_count": null,
   "id": "d8cc4cdc",
   "metadata": {},
   "outputs": [],
   "source": []
  }
 ],
 "metadata": {
  "kernelspec": {
   "display_name": "Python 3 (ipykernel)",
   "language": "python",
   "name": "python3"
  },
  "language_info": {
   "codemirror_mode": {
    "name": "ipython",
    "version": 3
   },
   "file_extension": ".py",
   "mimetype": "text/x-python",
   "name": "python",
   "nbconvert_exporter": "python",
   "pygments_lexer": "ipython3",
   "version": "3.11.4"
  }
 },
 "nbformat": 4,
 "nbformat_minor": 5
}
